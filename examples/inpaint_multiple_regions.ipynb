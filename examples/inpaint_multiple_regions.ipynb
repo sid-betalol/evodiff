{
  "cells": [
    {
      "cell_type": "markdown",
      "metadata": {
        "id": "view-in-github",
        "colab_type": "text"
      },
      "source": [
        "<a href=\"https://colab.research.google.com/github/sid-betalol/evodiff/blob/main/examples/inpaint_multiple_regions.ipynb\" target=\"_parent\"><img src=\"https://colab.research.google.com/assets/colab-badge.svg\" alt=\"Open In Colab\"/></a>"
      ]
    },
    {
      "cell_type": "markdown",
      "metadata": {
        "pycharm": {
          "name": "#%% md\n"
        },
        "id": "tTHqIS2hIcLY"
      },
      "source": [
        "# EvoDiff Examples\n",
        "\n",
        "In this notebook we will overview how to approach the following topics:\n",
        "\n",
        "\n",
        "* Inpainting of multiple regions in a given sequence or given list of sequences\n",
        "\n",
        "\n",
        "## Installation\n",
        "\n",
        "To download and run our code, first open this notebook in a clean conda environment. We recommend creating it with python ```v3.8.5```. You can do so by running ```conda create --name evodiff python=3.8.5```. In that new environment, to download our code, run:"
      ]
    },
    {
      "cell_type": "code",
      "execution_count": null,
      "metadata": {
        "pycharm": {
          "name": "#%%\n"
        },
        "id": "UJPPvDFwIcLb"
      },
      "outputs": [],
      "source": [
        "# import sys\n",
        "# !{sys.executable} -m pip install evodiff"
      ]
    },
    {
      "cell_type": "markdown",
      "metadata": {
        "pycharm": {
          "name": "#%% md\n"
        },
        "id": "vMyYeZxqIcLc"
      },
      "source": [
        "You will also need to install PyTorch. We tested our models on `v2.0.1`. Change the below line to install the pytorch version that works for your system."
      ]
    },
    {
      "cell_type": "code",
      "execution_count": null,
      "metadata": {
        "pycharm": {
          "name": "#%%\n"
        },
        "id": "oNtVXxz8IcLc"
      },
      "outputs": [],
      "source": [
        "# conda install pytorch torchvision torchaudio cpuonly -c pytorch"
      ]
    },
    {
      "cell_type": "markdown",
      "metadata": {
        "pycharm": {
          "name": "#%% md\n"
        },
        "id": "3o5JF7T7IcLd"
      },
      "source": [
        "You also need PyTorch Geometric and PyTorch Scatter installed"
      ]
    },
    {
      "cell_type": "code",
      "execution_count": null,
      "metadata": {
        "pycharm": {
          "name": "#%%\n"
        },
        "id": "n8P9gZwEIcLd"
      },
      "outputs": [],
      "source": [
        "# conda install pyg -c pyg"
      ]
    },
    {
      "cell_type": "code",
      "execution_count": null,
      "metadata": {
        "pycharm": {
          "name": "#%%\n"
        },
        "id": "DNOQNQt9IcLd"
      },
      "outputs": [],
      "source": [
        "# conda install -c conda-forge torch-scatter"
      ]
    },
    {
      "cell_type": "code",
      "source": [
        "!pip install git+https://github.com/sid-betalol/evodiff.git"
      ],
      "metadata": {
        "id": "JbvaEJpeuO8N"
      },
      "execution_count": null,
      "outputs": []
    },
    {
      "cell_type": "code",
      "source": [
        "!pip install git+https://github.com/microsoft/protein-sequence-models.git"
      ],
      "metadata": {
        "id": "iGONXejRuW4q"
      },
      "execution_count": null,
      "outputs": []
    },
    {
      "cell_type": "code",
      "source": [
        "!pip install alembic aniso8601 biotite blosum docker fair-esm fasteners graphene graphql-core graphql-relay GridDataFormats gunicorn lmdb Mako mda-xdrlib MDAnalysis mlflow mmtf-python mrcfile pdb-tools querystring-parser smmap biopython==1.81"
      ],
      "metadata": {
        "id": "5H0Lk4Koua5R"
      },
      "execution_count": null,
      "outputs": []
    },
    {
      "cell_type": "code",
      "source": [
        "!pip install torchvision torchaudio"
      ],
      "metadata": {
        "id": "F-BHzDlBuh3m"
      },
      "execution_count": null,
      "outputs": []
    },
    {
      "cell_type": "code",
      "source": [
        "import torch\n",
        "print(torch.__version__)\n",
        "print(torch.version.cuda)\n",
        "torch_version = torch.__version__\n",
        "cuda_version = torch.version.cuda.replace('.', '')\n",
        "base_url = f\"https://pytorch-geometric.com/whl/torch-{torch_version}.html\""
      ],
      "metadata": {
        "id": "beVoUdxeuiq7"
      },
      "execution_count": null,
      "outputs": []
    },
    {
      "cell_type": "code",
      "source": [
        "!pip install -q torch-scatter -f $base_url\n",
        "!pip install -q torch-sparse -f $base_url\n",
        "!pip install -q torch-cluster -f $base_url\n",
        "!pip install -q torch-spline-conv -f $base_url\n",
        "!pip install -q torch-geometric"
      ],
      "metadata": {
        "id": "AwDQrKl5un7h"
      },
      "execution_count": null,
      "outputs": []
    },
    {
      "cell_type": "markdown",
      "metadata": {
        "pycharm": {
          "name": "#%% md\n"
        },
        "id": "WnQVexc8IcLf"
      },
      "source": [
        "## Conditional generation"
      ]
    },
    {
      "cell_type": "markdown",
      "metadata": {
        "pycharm": {
          "name": "#%% md\n"
        },
        "id": "81gaiczjIcLf"
      },
      "source": [
        "### Inpainting IDRs with EvoDiff-Seq\n",
        "\n",
        "First, lets load the model we want to use"
      ]
    },
    {
      "cell_type": "code",
      "execution_count": null,
      "metadata": {
        "pycharm": {
          "name": "#%%\n"
        },
        "id": "QxsyFimKIcLg"
      },
      "outputs": [],
      "source": [
        "from evodiff.pretrained import OA_DM_38M\n",
        "\n",
        "checkpoint = OA_DM_38M()\n",
        "model, collater, tokenizer, scheme = checkpoint"
      ]
    },
    {
      "cell_type": "code",
      "source": [
        "device = torch.device('cuda' if torch.cuda.is_available() else 'cpu')\n",
        "model.to(device)"
      ],
      "metadata": {
        "id": "ZGOqYXh3u5dM"
      },
      "execution_count": null,
      "outputs": []
    },
    {
      "cell_type": "code",
      "source": [
        "from evodiff.conditional_generation import inpaint_multiple_regions"
      ],
      "metadata": {
        "id": "9gf5pFaVvBQA"
      },
      "execution_count": null,
      "outputs": []
    },
    {
      "cell_type": "code",
      "source": [
        "sequence1 = 'DQTERTVRSFEGRRTAPYLDSRNVLTIGYGHLLNRPGANKSWEGRLTSALPREFKQRLTELAASQLHETDVRLATARAQALYGSGAYFESVPVSLNDLWFDSVFNLGERKLLNWSGLRTKLESRDWGAAAKDLGRHTFGREPVSRRMAESMRMRRGIDLNHYNI'\n",
        "sequence2 = sequence1[:100]"
      ],
      "metadata": {
        "id": "lM7276ejvLfG"
      },
      "execution_count": null,
      "outputs": []
    },
    {
      "cell_type": "markdown",
      "source": [
        "Helper Functions for tokenizing the sequences"
      ],
      "metadata": {
        "id": "zx-LKgypw0iz"
      }
    },
    {
      "cell_type": "code",
      "source": [
        "def mask_sequences(sequences, start_ids, end_ids):\n",
        "    masked_sequences = []\n",
        "    for sequence, starts, ends in zip(sequences, start_ids, end_ids):\n",
        "        masked_sequence = sequence\n",
        "        offset = 0\n",
        "        for start, end in zip(starts, ends):\n",
        "            start += offset\n",
        "            end += offset\n",
        "            masked_sequence = masked_sequence[:start] + '#' * (end - start) + masked_sequence[end:]\n",
        "            offset += (end - start) - (end - start)\n",
        "        masked_sequences.append(masked_sequence)\n",
        "    return masked_sequences\n",
        "\n",
        "def tokenize_sequences(sequences, tokenizer, device=device):\n",
        "    tokenized_sequences = [torch.tensor(tokenizer.tokenizeMSA(seq)) for seq in sequences]\n",
        "    tokenized_sequences = [seq.to(device) for seq in tokenized_sequences]\n",
        "    return tokenized_sequences\n",
        "\n",
        "def prepare_indices(start_ids, end_ids, device=device):\n",
        "    start_idxs = torch.tensor(start_ids).to(device)\n",
        "    end_idxs = torch.tensor(end_ids).to(device)\n",
        "    return start_idxs, end_idxs"
      ],
      "metadata": {
        "id": "Mamf9VcUwzWd"
      },
      "execution_count": null,
      "outputs": []
    },
    {
      "cell_type": "markdown",
      "source": [
        "Prepare your sequences for inpainting"
      ],
      "metadata": {
        "id": "gk6xBpQfxKiy"
      }
    },
    {
      "cell_type": "code",
      "source": [
        "sequences = [sequence1, sequence2]\n",
        "start_ids = [[20, 80], [10, 80]]\n",
        "end_ids = [[50, 100], [20, 90]]\n",
        "\n",
        "# Mask the sequences\n",
        "masked_sequences = mask_sequences(sequences, start_ids, end_ids)\n",
        "\n",
        "# Tokenize the masked sequences\n",
        "tokenizer = tokenizer\n",
        "tokenized_sequences = tokenize_sequences(masked_sequences, tokenizer, device)"
      ],
      "metadata": {
        "id": "tClhdE5-xBol"
      },
      "execution_count": null,
      "outputs": []
    },
    {
      "cell_type": "code",
      "source": [
        "# masked_sequences"
      ],
      "metadata": {
        "id": "qbXtFNERzC9h"
      },
      "execution_count": null,
      "outputs": []
    },
    {
      "cell_type": "code",
      "source": [
        "untokenized_seqs, sequences, untokenized_idrs, sequences_idrs, save_starts, save_ends = inpaint_multiple_regions(model, tokenized_sequences, start_ids, end_ids, sequences, tokenizer)"
      ],
      "metadata": {
        "id": "XGxaa8MdvZ0X"
      },
      "execution_count": null,
      "outputs": []
    },
    {
      "cell_type": "code",
      "source": [
        "# untokenized_seqs"
      ],
      "metadata": {
        "id": "8PuDHkQrzHCs"
      },
      "execution_count": null,
      "outputs": []
    },
    {
      "cell_type": "code",
      "source": [
        "# sequences"
      ],
      "metadata": {
        "id": "ggClNIzXz6qB"
      },
      "execution_count": null,
      "outputs": []
    },
    {
      "cell_type": "code",
      "source": [
        "# untokenized_idrs"
      ],
      "metadata": {
        "id": "97TUEGAFz8oY"
      },
      "execution_count": null,
      "outputs": []
    },
    {
      "cell_type": "code",
      "source": [
        "# sequences_idrs"
      ],
      "metadata": {
        "id": "Mt6N3WWD0dIR"
      },
      "execution_count": null,
      "outputs": []
    }
  ],
  "metadata": {
    "kernelspec": {
      "display_name": "Python 3",
      "name": "python3"
    },
    "language_info": {
      "codemirror_mode": {
        "name": "ipython",
        "version": 3
      },
      "file_extension": ".py",
      "mimetype": "text/x-python",
      "name": "python",
      "nbconvert_exporter": "python",
      "pygments_lexer": "ipython3",
      "version": "3.8.5"
    },
    "colab": {
      "provenance": [],
      "gpuType": "T4",
      "include_colab_link": true
    },
    "accelerator": "GPU"
  },
  "nbformat": 4,
  "nbformat_minor": 0
}